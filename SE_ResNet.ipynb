{
  "cells": [
    {
      "cell_type": "code",
      "execution_count": null,
      "metadata": {
        "colab": {
          "base_uri": "https://localhost:8080/"
        },
        "id": "TjvunQlFKD4c",
        "outputId": "033f2a7a-cfed-4fc5-b578-8e510ae2950d"
      },
      "outputs": [
        {
          "name": "stdout",
          "output_type": "stream",
          "text": [
            "Mounted at /content/drive\n"
          ]
        }
      ],
      "source": [
        "from google.colab import drive\n",
        "drive.mount('/content/drive')"
      ]
    },
    {
      "cell_type": "code",
      "execution_count": null,
      "metadata": {
        "id": "_2QgLqEa_otY"
      },
      "outputs": [],
      "source": [
        "import tensorflow.keras.backend as K\n",
        "\n",
        "from tensorflow.keras.models import Model\n",
        "from tensorflow.keras.layers import *\n",
        "from tensorflow.keras.layers import Activation, Add,DepthwiseConv2D, BatchNormalization, Concatenate, Conv2D, Dense,Dropout, GlobalAveragePooling2D, GlobalMaxPooling2D, Input, Lambda,LeakyReLU, MaxPooling2D, Multiply, Permute, Reshape, UpSampling2D\n",
        "import collections\n",
        "import tensorflow as tf\n",
        "from tensorflow.keras import regularizers\n",
        "from  tensorflow.keras.initializers import *\n",
        "# from keras_flops import get_flops"
      ]
    },
    {
      "cell_type": "code",
      "execution_count": null,
      "metadata": {
        "colab": {
          "base_uri": "https://localhost:8080/"
        },
        "id": "pAGBiEi8KAsT",
        "outputId": "e2834713-0a75-4175-c9db-520dd18150c1"
      },
      "outputs": [
        {
          "name": "stdout",
          "output_type": "stream",
          "text": [
            "Found 3432 images belonging to 5 classes.\n",
            "Found 503 images belonging to 5 classes.\n",
            "{'grade0': 0, 'grade1': 1, 'grade2': 2, 'grade3': 3, 'grade4': 4}\n"
          ]
        }
      ],
      "source": [
        "import numpy as np\n",
        "from tensorflow.keras.preprocessing.image import ImageDataGenerator\n",
        "train_path = '/content/drive/MyDrive/deep learning/Training/'\n",
        "val_path = '/content/drive/MyDrive/deep learning/Validation/'\n",
        "test_path = '/content/drive/MyDrive/deep learning/Test/'\n",
        "batch_size = 4\n",
        "img_height = 224\n",
        "img_width = 224\n",
        "no_of_classes = 5\n",
        "classes_name = [0,1,2,3,4]\n",
        "input_shape = (img_height , img_width , 3)\n",
        "\n",
        "\n",
        "random_seed = np.random.seed(1142)\n",
        "\n",
        "datagen = ImageDataGenerator(\n",
        "    rescale=1. / 255,\n",
        "    featurewise_center=True,\n",
        "    horizontal_flip = False,\n",
        "    vertical_flip = False,\n",
        "    #validation_split = 0.1,\n",
        "    featurewise_std_normalization=True)\n",
        "\n",
        "train_generator = datagen.flow_from_directory(\n",
        "    train_path,\n",
        "    target_size=(img_height, img_width),\n",
        "    batch_size=batch_size,\n",
        "    shuffle = True,\n",
        "    class_mode='categorical')\n",
        "\n",
        "validation_generator = datagen.flow_from_directory(\n",
        "    val_path,\n",
        "     target_size=(img_height, img_width),\n",
        "    batch_size=batch_size,\n",
        "    shuffle = True,\n",
        "    class_mode='categorical')\n",
        "\n",
        "\n",
        "print(train_generator.class_indices)"
      ]
    },
    {
      "cell_type": "code",
      "execution_count": null,
      "metadata": {
        "id": "VNZ23AL1KAsU"
      },
      "outputs": [],
      "source": [
        "def se_block(block_input, num_filters, ratio=8):\n",
        "\n",
        "\tpool1 = tf.keras.layers.GlobalAveragePooling2D()(block_input)\n",
        "\tflat = tf.keras.layers.Reshape((1, 1, num_filters))(pool1)\n",
        "\tdense1 = tf.keras.layers.Dense(num_filters//ratio, activation='relu')(flat)\n",
        "\tdense2 = tf.keras.layers.Dense(num_filters, activation='sigmoid')(dense1)\n",
        "\tscale = tf.keras.layers.multiply([block_input, dense2])\n",
        "\n",
        "\treturn scale\n",
        "\n",
        "\n",
        "def resnet_block(block_input, num_filters):\n",
        "\n",
        "\tif tf.keras.backend.int_shape(block_input)[3] != num_filters:\n",
        "\t\tblock_input = tf.keras.layers.Conv2D(num_filters, kernel_size=(1, 1))(block_input)\n",
        "\n",
        "\tconv1 = tf.keras.layers.Conv2D(num_filters, kernel_size=(3, 3), padding='same')(block_input)\n",
        "\tnorm1 = tf.keras.layers.BatchNormalization()(conv1)\n",
        "\trelu1 = tf.keras.layers.Activation('relu')(norm1)\n",
        "\tconv2 = tf.keras.layers.Conv2D(num_filters, kernel_size=(3, 3), padding='same')(relu1)\n",
        "\tnorm2 = tf.keras.layers.BatchNormalization()(conv2)\n",
        "\n",
        "\tse = se_block(norm2, num_filters=num_filters)\n",
        "\n",
        "\tsum = tf.keras.layers.Add()([block_input, se])\n",
        "\trelu2 = tf.keras.layers.Activation('relu')(sum)\n",
        "\n",
        "\treturn relu2\n",
        "\n",
        "def se_resnet14():\n",
        "\n",
        "  input = tf.keras.layers.Input(shape=(224, 224, 3))\n",
        "  conv1 = tf.keras.layers.Conv2D(16, kernel_size=(7, 7), activation='relu', padding='same', kernel_initializer='he_normal')(input)\n",
        "\n",
        "  block1 = resnet_block(conv1, 16)\n",
        "  block2 = resnet_block(block1, 16)\n",
        "  block3 = resnet_block(block2,16)\n",
        "\n",
        "  pool1 = tf.keras.layers.MaxPooling2D((2, 2), (2,2))(block3)\n",
        "\n",
        "  block4 = resnet_block(pool1, 32)\n",
        "  block5 = resnet_block(block4, 32)\n",
        "  block6 = resnet_block(block5,32)\n",
        "\n",
        "  pool2 = tf.keras.layers.MaxPooling2D((2, 2), (2,2))(block6)\n",
        "\n",
        "  block7 = resnet_block(pool2, 64)\n",
        "  block8 = resnet_block(block7, 64)\n",
        "  block9 = resnet_block(block8,64)\n",
        "\n",
        "  global_pool = tf.keras.layers.GlobalAveragePooling2D()(block9)\n",
        "\n",
        "  output = tf.keras.layers.Dense(5, activation='softmax')(global_pool)\n",
        "\n",
        "  model = tf.keras.models.Model(inputs=input, outputs=output)\n",
        "  return model\n"
      ]
    },
    {
      "cell_type": "code",
      "execution_count": null,
      "metadata": {
        "colab": {
          "base_uri": "https://localhost:8080/"
        },
        "id": "yrKL52BPKAsV",
        "outputId": "4ace276f-8347-445d-82d6-3dc3e9e1f350"
      },
      "outputs": [
        {
          "name": "stdout",
          "output_type": "stream",
          "text": [
            "Model: \"model\"\n",
            "__________________________________________________________________________________________________\n",
            " Layer (type)                Output Shape                 Param #   Connected to                  \n",
            "==================================================================================================\n",
            " input_1 (InputLayer)        [(None, 224, 224, 3)]        0         []                            \n",
            "                                                                                                  \n",
            " conv2d (Conv2D)             (None, 224, 224, 16)         2368      ['input_1[0][0]']             \n",
            "                                                                                                  \n",
            " conv2d_1 (Conv2D)           (None, 224, 224, 16)         2320      ['conv2d[0][0]']              \n",
            "                                                                                                  \n",
            " batch_normalization (Batch  (None, 224, 224, 16)         64        ['conv2d_1[0][0]']            \n",
            " Normalization)                                                                                   \n",
            "                                                                                                  \n",
            " activation (Activation)     (None, 224, 224, 16)         0         ['batch_normalization[0][0]'] \n",
            "                                                                                                  \n",
            " conv2d_2 (Conv2D)           (None, 224, 224, 16)         2320      ['activation[0][0]']          \n",
            "                                                                                                  \n",
            " batch_normalization_1 (Bat  (None, 224, 224, 16)         64        ['conv2d_2[0][0]']            \n",
            " chNormalization)                                                                                 \n",
            "                                                                                                  \n",
            " global_average_pooling2d (  (None, 16)                   0         ['batch_normalization_1[0][0]'\n",
            " GlobalAveragePooling2D)                                            ]                             \n",
            "                                                                                                  \n",
            " reshape (Reshape)           (None, 1, 1, 16)             0         ['global_average_pooling2d[0][\n",
            "                                                                    0]']                          \n",
            "                                                                                                  \n",
            " dense (Dense)               (None, 1, 1, 2)              34        ['reshape[0][0]']             \n",
            "                                                                                                  \n",
            " dense_1 (Dense)             (None, 1, 1, 16)             48        ['dense[0][0]']               \n",
            "                                                                                                  \n",
            " multiply (Multiply)         (None, 224, 224, 16)         0         ['batch_normalization_1[0][0]'\n",
            "                                                                    , 'dense_1[0][0]']            \n",
            "                                                                                                  \n",
            " add (Add)                   (None, 224, 224, 16)         0         ['conv2d[0][0]',              \n",
            "                                                                     'multiply[0][0]']            \n",
            "                                                                                                  \n",
            " activation_1 (Activation)   (None, 224, 224, 16)         0         ['add[0][0]']                 \n",
            "                                                                                                  \n",
            " conv2d_3 (Conv2D)           (None, 224, 224, 16)         2320      ['activation_1[0][0]']        \n",
            "                                                                                                  \n",
            " batch_normalization_2 (Bat  (None, 224, 224, 16)         64        ['conv2d_3[0][0]']            \n",
            " chNormalization)                                                                                 \n",
            "                                                                                                  \n",
            " activation_2 (Activation)   (None, 224, 224, 16)         0         ['batch_normalization_2[0][0]'\n",
            "                                                                    ]                             \n",
            "                                                                                                  \n",
            " conv2d_4 (Conv2D)           (None, 224, 224, 16)         2320      ['activation_2[0][0]']        \n",
            "                                                                                                  \n",
            " batch_normalization_3 (Bat  (None, 224, 224, 16)         64        ['conv2d_4[0][0]']            \n",
            " chNormalization)                                                                                 \n",
            "                                                                                                  \n",
            " global_average_pooling2d_1  (None, 16)                   0         ['batch_normalization_3[0][0]'\n",
            "  (GlobalAveragePooling2D)                                          ]                             \n",
            "                                                                                                  \n",
            " reshape_1 (Reshape)         (None, 1, 1, 16)             0         ['global_average_pooling2d_1[0\n",
            "                                                                    ][0]']                        \n",
            "                                                                                                  \n",
            " dense_2 (Dense)             (None, 1, 1, 2)              34        ['reshape_1[0][0]']           \n",
            "                                                                                                  \n",
            " dense_3 (Dense)             (None, 1, 1, 16)             48        ['dense_2[0][0]']             \n",
            "                                                                                                  \n",
            " multiply_1 (Multiply)       (None, 224, 224, 16)         0         ['batch_normalization_3[0][0]'\n",
            "                                                                    , 'dense_3[0][0]']            \n",
            "                                                                                                  \n",
            " add_1 (Add)                 (None, 224, 224, 16)         0         ['activation_1[0][0]',        \n",
            "                                                                     'multiply_1[0][0]']          \n",
            "                                                                                                  \n",
            " activation_3 (Activation)   (None, 224, 224, 16)         0         ['add_1[0][0]']               \n",
            "                                                                                                  \n",
            " conv2d_5 (Conv2D)           (None, 224, 224, 16)         2320      ['activation_3[0][0]']        \n",
            "                                                                                                  \n",
            " batch_normalization_4 (Bat  (None, 224, 224, 16)         64        ['conv2d_5[0][0]']            \n",
            " chNormalization)                                                                                 \n",
            "                                                                                                  \n",
            " activation_4 (Activation)   (None, 224, 224, 16)         0         ['batch_normalization_4[0][0]'\n",
            "                                                                    ]                             \n",
            "                                                                                                  \n",
            " conv2d_6 (Conv2D)           (None, 224, 224, 16)         2320      ['activation_4[0][0]']        \n",
            "                                                                                                  \n",
            " batch_normalization_5 (Bat  (None, 224, 224, 16)         64        ['conv2d_6[0][0]']            \n",
            " chNormalization)                                                                                 \n",
            "                                                                                                  \n",
            " global_average_pooling2d_2  (None, 16)                   0         ['batch_normalization_5[0][0]'\n",
            "  (GlobalAveragePooling2D)                                          ]                             \n",
            "                                                                                                  \n",
            " reshape_2 (Reshape)         (None, 1, 1, 16)             0         ['global_average_pooling2d_2[0\n",
            "                                                                    ][0]']                        \n",
            "                                                                                                  \n",
            " dense_4 (Dense)             (None, 1, 1, 2)              34        ['reshape_2[0][0]']           \n",
            "                                                                                                  \n",
            " dense_5 (Dense)             (None, 1, 1, 16)             48        ['dense_4[0][0]']             \n",
            "                                                                                                  \n",
            " multiply_2 (Multiply)       (None, 224, 224, 16)         0         ['batch_normalization_5[0][0]'\n",
            "                                                                    , 'dense_5[0][0]']            \n",
            "                                                                                                  \n",
            " add_2 (Add)                 (None, 224, 224, 16)         0         ['activation_3[0][0]',        \n",
            "                                                                     'multiply_2[0][0]']          \n",
            "                                                                                                  \n",
            " activation_5 (Activation)   (None, 224, 224, 16)         0         ['add_2[0][0]']               \n",
            "                                                                                                  \n",
            " max_pooling2d (MaxPooling2  (None, 112, 112, 16)         0         ['activation_5[0][0]']        \n",
            " D)                                                                                               \n",
            "                                                                                                  \n",
            " conv2d_7 (Conv2D)           (None, 112, 112, 32)         544       ['max_pooling2d[0][0]']       \n",
            "                                                                                                  \n",
            " conv2d_8 (Conv2D)           (None, 112, 112, 32)         9248      ['conv2d_7[0][0]']            \n",
            "                                                                                                  \n",
            " batch_normalization_6 (Bat  (None, 112, 112, 32)         128       ['conv2d_8[0][0]']            \n",
            " chNormalization)                                                                                 \n",
            "                                                                                                  \n",
            " activation_6 (Activation)   (None, 112, 112, 32)         0         ['batch_normalization_6[0][0]'\n",
            "                                                                    ]                             \n",
            "                                                                                                  \n",
            " conv2d_9 (Conv2D)           (None, 112, 112, 32)         9248      ['activation_6[0][0]']        \n",
            "                                                                                                  \n",
            " batch_normalization_7 (Bat  (None, 112, 112, 32)         128       ['conv2d_9[0][0]']            \n",
            " chNormalization)                                                                                 \n",
            "                                                                                                  \n",
            " global_average_pooling2d_3  (None, 32)                   0         ['batch_normalization_7[0][0]'\n",
            "  (GlobalAveragePooling2D)                                          ]                             \n",
            "                                                                                                  \n",
            " reshape_3 (Reshape)         (None, 1, 1, 32)             0         ['global_average_pooling2d_3[0\n",
            "                                                                    ][0]']                        \n",
            "                                                                                                  \n",
            " dense_6 (Dense)             (None, 1, 1, 4)              132       ['reshape_3[0][0]']           \n",
            "                                                                                                  \n",
            " dense_7 (Dense)             (None, 1, 1, 32)             160       ['dense_6[0][0]']             \n",
            "                                                                                                  \n",
            " multiply_3 (Multiply)       (None, 112, 112, 32)         0         ['batch_normalization_7[0][0]'\n",
            "                                                                    , 'dense_7[0][0]']            \n",
            "                                                                                                  \n",
            " add_3 (Add)                 (None, 112, 112, 32)         0         ['conv2d_7[0][0]',            \n",
            "                                                                     'multiply_3[0][0]']          \n",
            "                                                                                                  \n",
            " activation_7 (Activation)   (None, 112, 112, 32)         0         ['add_3[0][0]']               \n",
            "                                                                                                  \n",
            " conv2d_10 (Conv2D)          (None, 112, 112, 32)         9248      ['activation_7[0][0]']        \n",
            "                                                                                                  \n",
            " batch_normalization_8 (Bat  (None, 112, 112, 32)         128       ['conv2d_10[0][0]']           \n",
            " chNormalization)                                                                                 \n",
            "                                                                                                  \n",
            " activation_8 (Activation)   (None, 112, 112, 32)         0         ['batch_normalization_8[0][0]'\n",
            "                                                                    ]                             \n",
            "                                                                                                  \n",
            " conv2d_11 (Conv2D)          (None, 112, 112, 32)         9248      ['activation_8[0][0]']        \n",
            "                                                                                                  \n",
            " batch_normalization_9 (Bat  (None, 112, 112, 32)         128       ['conv2d_11[0][0]']           \n",
            " chNormalization)                                                                                 \n",
            "                                                                                                  \n",
            " global_average_pooling2d_4  (None, 32)                   0         ['batch_normalization_9[0][0]'\n",
            "  (GlobalAveragePooling2D)                                          ]                             \n",
            "                                                                                                  \n",
            " reshape_4 (Reshape)         (None, 1, 1, 32)             0         ['global_average_pooling2d_4[0\n",
            "                                                                    ][0]']                        \n",
            "                                                                                                  \n",
            " dense_8 (Dense)             (None, 1, 1, 4)              132       ['reshape_4[0][0]']           \n",
            "                                                                                                  \n",
            " dense_9 (Dense)             (None, 1, 1, 32)             160       ['dense_8[0][0]']             \n",
            "                                                                                                  \n",
            " multiply_4 (Multiply)       (None, 112, 112, 32)         0         ['batch_normalization_9[0][0]'\n",
            "                                                                    , 'dense_9[0][0]']            \n",
            "                                                                                                  \n",
            " add_4 (Add)                 (None, 112, 112, 32)         0         ['activation_7[0][0]',        \n",
            "                                                                     'multiply_4[0][0]']          \n",
            "                                                                                                  \n",
            " activation_9 (Activation)   (None, 112, 112, 32)         0         ['add_4[0][0]']               \n",
            "                                                                                                  \n",
            " conv2d_12 (Conv2D)          (None, 112, 112, 32)         9248      ['activation_9[0][0]']        \n",
            "                                                                                                  \n",
            " batch_normalization_10 (Ba  (None, 112, 112, 32)         128       ['conv2d_12[0][0]']           \n",
            " tchNormalization)                                                                                \n",
            "                                                                                                  \n",
            " activation_10 (Activation)  (None, 112, 112, 32)         0         ['batch_normalization_10[0][0]\n",
            "                                                                    ']                            \n",
            "                                                                                                  \n",
            " conv2d_13 (Conv2D)          (None, 112, 112, 32)         9248      ['activation_10[0][0]']       \n",
            "                                                                                                  \n",
            " batch_normalization_11 (Ba  (None, 112, 112, 32)         128       ['conv2d_13[0][0]']           \n",
            " tchNormalization)                                                                                \n",
            "                                                                                                  \n",
            " global_average_pooling2d_5  (None, 32)                   0         ['batch_normalization_11[0][0]\n",
            "  (GlobalAveragePooling2D)                                          ']                            \n",
            "                                                                                                  \n",
            " reshape_5 (Reshape)         (None, 1, 1, 32)             0         ['global_average_pooling2d_5[0\n",
            "                                                                    ][0]']                        \n",
            "                                                                                                  \n",
            " dense_10 (Dense)            (None, 1, 1, 4)              132       ['reshape_5[0][0]']           \n",
            "                                                                                                  \n",
            " dense_11 (Dense)            (None, 1, 1, 32)             160       ['dense_10[0][0]']            \n",
            "                                                                                                  \n",
            " multiply_5 (Multiply)       (None, 112, 112, 32)         0         ['batch_normalization_11[0][0]\n",
            "                                                                    ',                            \n",
            "                                                                     'dense_11[0][0]']            \n",
            "                                                                                                  \n",
            " add_5 (Add)                 (None, 112, 112, 32)         0         ['activation_9[0][0]',        \n",
            "                                                                     'multiply_5[0][0]']          \n",
            "                                                                                                  \n",
            " activation_11 (Activation)  (None, 112, 112, 32)         0         ['add_5[0][0]']               \n",
            "                                                                                                  \n",
            " max_pooling2d_1 (MaxPoolin  (None, 56, 56, 32)           0         ['activation_11[0][0]']       \n",
            " g2D)                                                                                             \n",
            "                                                                                                  \n",
            " conv2d_14 (Conv2D)          (None, 56, 56, 64)           2112      ['max_pooling2d_1[0][0]']     \n",
            "                                                                                                  \n",
            " conv2d_15 (Conv2D)          (None, 56, 56, 64)           36928     ['conv2d_14[0][0]']           \n",
            "                                                                                                  \n",
            " batch_normalization_12 (Ba  (None, 56, 56, 64)           256       ['conv2d_15[0][0]']           \n",
            " tchNormalization)                                                                                \n",
            "                                                                                                  \n",
            " activation_12 (Activation)  (None, 56, 56, 64)           0         ['batch_normalization_12[0][0]\n",
            "                                                                    ']                            \n",
            "                                                                                                  \n",
            " conv2d_16 (Conv2D)          (None, 56, 56, 64)           36928     ['activation_12[0][0]']       \n",
            "                                                                                                  \n",
            " batch_normalization_13 (Ba  (None, 56, 56, 64)           256       ['conv2d_16[0][0]']           \n",
            " tchNormalization)                                                                                \n",
            "                                                                                                  \n",
            " global_average_pooling2d_6  (None, 64)                   0         ['batch_normalization_13[0][0]\n",
            "  (GlobalAveragePooling2D)                                          ']                            \n",
            "                                                                                                  \n",
            " reshape_6 (Reshape)         (None, 1, 1, 64)             0         ['global_average_pooling2d_6[0\n",
            "                                                                    ][0]']                        \n",
            "                                                                                                  \n",
            " dense_12 (Dense)            (None, 1, 1, 8)              520       ['reshape_6[0][0]']           \n",
            "                                                                                                  \n",
            " dense_13 (Dense)            (None, 1, 1, 64)             576       ['dense_12[0][0]']            \n",
            "                                                                                                  \n",
            " multiply_6 (Multiply)       (None, 56, 56, 64)           0         ['batch_normalization_13[0][0]\n",
            "                                                                    ',                            \n",
            "                                                                     'dense_13[0][0]']            \n",
            "                                                                                                  \n",
            " add_6 (Add)                 (None, 56, 56, 64)           0         ['conv2d_14[0][0]',           \n",
            "                                                                     'multiply_6[0][0]']          \n",
            "                                                                                                  \n",
            " activation_13 (Activation)  (None, 56, 56, 64)           0         ['add_6[0][0]']               \n",
            "                                                                                                  \n",
            " conv2d_17 (Conv2D)          (None, 56, 56, 64)           36928     ['activation_13[0][0]']       \n",
            "                                                                                                  \n",
            " batch_normalization_14 (Ba  (None, 56, 56, 64)           256       ['conv2d_17[0][0]']           \n",
            " tchNormalization)                                                                                \n",
            "                                                                                                  \n",
            " activation_14 (Activation)  (None, 56, 56, 64)           0         ['batch_normalization_14[0][0]\n",
            "                                                                    ']                            \n",
            "                                                                                                  \n",
            " conv2d_18 (Conv2D)          (None, 56, 56, 64)           36928     ['activation_14[0][0]']       \n",
            "                                                                                                  \n",
            " batch_normalization_15 (Ba  (None, 56, 56, 64)           256       ['conv2d_18[0][0]']           \n",
            " tchNormalization)                                                                                \n",
            "                                                                                                  \n",
            " global_average_pooling2d_7  (None, 64)                   0         ['batch_normalization_15[0][0]\n",
            "  (GlobalAveragePooling2D)                                          ']                            \n",
            "                                                                                                  \n",
            " reshape_7 (Reshape)         (None, 1, 1, 64)             0         ['global_average_pooling2d_7[0\n",
            "                                                                    ][0]']                        \n",
            "                                                                                                  \n",
            " dense_14 (Dense)            (None, 1, 1, 8)              520       ['reshape_7[0][0]']           \n",
            "                                                                                                  \n",
            " dense_15 (Dense)            (None, 1, 1, 64)             576       ['dense_14[0][0]']            \n",
            "                                                                                                  \n",
            " multiply_7 (Multiply)       (None, 56, 56, 64)           0         ['batch_normalization_15[0][0]\n",
            "                                                                    ',                            \n",
            "                                                                     'dense_15[0][0]']            \n",
            "                                                                                                  \n",
            " add_7 (Add)                 (None, 56, 56, 64)           0         ['activation_13[0][0]',       \n",
            "                                                                     'multiply_7[0][0]']          \n",
            "                                                                                                  \n",
            " activation_15 (Activation)  (None, 56, 56, 64)           0         ['add_7[0][0]']               \n",
            "                                                                                                  \n",
            " conv2d_19 (Conv2D)          (None, 56, 56, 64)           36928     ['activation_15[0][0]']       \n",
            "                                                                                                  \n",
            " batch_normalization_16 (Ba  (None, 56, 56, 64)           256       ['conv2d_19[0][0]']           \n",
            " tchNormalization)                                                                                \n",
            "                                                                                                  \n",
            " activation_16 (Activation)  (None, 56, 56, 64)           0         ['batch_normalization_16[0][0]\n",
            "                                                                    ']                            \n",
            "                                                                                                  \n",
            " conv2d_20 (Conv2D)          (None, 56, 56, 64)           36928     ['activation_16[0][0]']       \n",
            "                                                                                                  \n",
            " batch_normalization_17 (Ba  (None, 56, 56, 64)           256       ['conv2d_20[0][0]']           \n",
            " tchNormalization)                                                                                \n",
            "                                                                                                  \n",
            " global_average_pooling2d_8  (None, 64)                   0         ['batch_normalization_17[0][0]\n",
            "  (GlobalAveragePooling2D)                                          ']                            \n",
            "                                                                                                  \n",
            " reshape_8 (Reshape)         (None, 1, 1, 64)             0         ['global_average_pooling2d_8[0\n",
            "                                                                    ][0]']                        \n",
            "                                                                                                  \n",
            " dense_16 (Dense)            (None, 1, 1, 8)              520       ['reshape_8[0][0]']           \n",
            "                                                                                                  \n",
            " dense_17 (Dense)            (None, 1, 1, 64)             576       ['dense_16[0][0]']            \n",
            "                                                                                                  \n",
            " multiply_8 (Multiply)       (None, 56, 56, 64)           0         ['batch_normalization_17[0][0]\n",
            "                                                                    ',                            \n",
            "                                                                     'dense_17[0][0]']            \n",
            "                                                                                                  \n",
            " add_8 (Add)                 (None, 56, 56, 64)           0         ['activation_15[0][0]',       \n",
            "                                                                     'multiply_8[0][0]']          \n",
            "                                                                                                  \n",
            " activation_17 (Activation)  (None, 56, 56, 64)           0         ['add_8[0][0]']               \n",
            "                                                                                                  \n",
            " global_average_pooling2d_9  (None, 64)                   0         ['activation_17[0][0]']       \n",
            "  (GlobalAveragePooling2D)                                                                        \n",
            "                                                                                                  \n",
            " dense_18 (Dense)            (None, 5)                    325       ['global_average_pooling2d_9[0\n",
            "                                                                    ][0]']                        \n",
            "                                                                                                  \n",
            "==================================================================================================\n",
            "Total params: 303423 (1.16 MB)\n",
            "Trainable params: 302079 (1.15 MB)\n",
            "Non-trainable params: 1344 (5.25 KB)\n",
            "__________________________________________________________________________________________________\n"
          ]
        }
      ],
      "source": [
        "\n",
        "# adam = tf.keras.optimizers.Adam(lr = 0.0001)\n",
        "model_se = se_resnet14()\n",
        "model_se.compile(optimizer = 'adam' , loss = 'categorical_crossentropy' , metrics = [\"acc\"])\n",
        "model_se.summary()\n",
        "# flops = get_flops(model_se,batch_size=1)\n",
        "# print(f\"Flops:{flops/10**9:.03}G\")"
      ]
    },
    {
      "cell_type": "code",
      "execution_count": null,
      "metadata": {
        "colab": {
          "background_save": true,
          "base_uri": "https://localhost:8080/"
        },
        "id": "QOnsHi9yKAsW",
        "outputId": "118cdb09-f00d-4f56-940c-927c2266c2a4"
      },
      "outputs": [
        {
          "name": "stderr",
          "output_type": "stream",
          "text": [
            "<ipython-input-6-0485852a0fb2>:12: UserWarning: `Model.fit_generator` is deprecated and will be removed in a future version. Please use `Model.fit`, which supports generators.\n",
            "  history = model_se.fit_generator(train_generator , validation_data = validation_generator ,\n",
            "/usr/local/lib/python3.10/dist-packages/keras/src/preprocessing/image.py:1862: UserWarning: This ImageDataGenerator specifies `featurewise_center`, but it hasn't been fit on any training data. Fit it first by calling `.fit(numpy_data)`.\n",
            "  warnings.warn(\n",
            "/usr/local/lib/python3.10/dist-packages/keras/src/preprocessing/image.py:1872: UserWarning: This ImageDataGenerator specifies `featurewise_std_normalization`, but it hasn't been fit on any training data. Fit it first by calling `.fit(numpy_data)`.\n",
            "  warnings.warn(\n"
          ]
        },
        {
          "name": "stdout",
          "output_type": "stream",
          "text": [
            "Epoch 1/70\n",
            "858/858 [==============================] - ETA: 0s - loss: 1.1430 - acc: 0.5291\n",
            "Epoch 1: val_acc improved from -inf to 0.20875, saving model to E:/Grading_Files/comp/new_work_BHC_22222222.h5\n",
            "858/858 [==============================] - 2244s 3s/step - loss: 1.1430 - acc: 0.5291 - val_loss: 3.5655 - val_acc: 0.2087 - lr: 0.0010\n",
            "Epoch 2/70\n",
            "858/858 [==============================] - ETA: 0s - loss: 0.9249 - acc: 0.6416\n",
            "Epoch 2: val_acc improved from 0.20875 to 0.54076, saving model to E:/Grading_Files/comp/new_work_BHC_22222222.h5\n",
            "858/858 [==============================] - 2041s 2s/step - loss: 0.9249 - acc: 0.6416 - val_loss: 1.4148 - val_acc: 0.5408 - lr: 0.0010\n",
            "Epoch 3/70\n",
            "858/858 [==============================] - ETA: 0s - loss: 0.8284 - acc: 0.6780\n",
            "Epoch 3: val_acc did not improve from 0.54076\n",
            "858/858 [==============================] - 2053s 2s/step - loss: 0.8284 - acc: 0.6780 - val_loss: 35.8288 - val_acc: 0.2465 - lr: 0.0010\n",
            "Epoch 4/70\n",
            "858/858 [==============================] - ETA: 0s - loss: 0.7149 - acc: 0.7258\n",
            "Epoch 4: val_acc did not improve from 0.54076\n",
            "858/858 [==============================] - 2024s 2s/step - loss: 0.7149 - acc: 0.7258 - val_loss: 18.9023 - val_acc: 0.1909 - lr: 0.0010\n",
            "Epoch 5/70\n",
            "252/858 [=======>......................] - ETA: 23:14 - loss: 0.5875 - acc: 0.7897"
          ]
        }
      ],
      "source": [
        "reduce_lr = tf.keras.callbacks.ReduceLROnPlateau(monitor = 'val_acc' , mode='max' ,\n",
        "                                                  factor = 0.5 , patience = 5 , verbose=1 , cooldown = 1,\n",
        "                                                 min_delta = 0.0001)\n",
        "\n",
        "early_stop = tf.keras.callbacks.EarlyStopping(monitor='val_acc', min_delta=0.0001, patience=40, verbose=1,\n",
        "                                              mode = 'max', restore_best_weights = True)\n",
        "# check_path = 'E:/Grading_Files/comp/new_work_BHC_222.h5'\n",
        "check_path = 'E:/Grading_Files/comp/new_work_BHC_22222222.h5'\n",
        "checkpoint = tf.keras.callbacks.ModelCheckpoint(check_path, monitor = 'val_acc', verbose=1, save_best_only=True, save_weights_only=True, mode='max')\n",
        "\n",
        "\n",
        "history = model_se.fit_generator(train_generator , validation_data = validation_generator ,\n",
        "                                  steps_per_epoch= len(train_generator) ,\n",
        "                                  validation_steps = len(validation_generator)\n",
        "                                  ,epochs = 70,callbacks = [reduce_lr, early_stop, checkpoint] )\n",
        "# model_prop.load_weights('/content/drive/MyDrive/Major_project_data/Kidney_KMC/KMC_kidney_40x_dataset/Metrics/checkpoint_anirudh_7.h5')"
      ]
    },
    {
      "cell_type": "code",
      "execution_count": null,
      "metadata": {
        "id": "eF62-eg1KAsY"
      },
      "outputs": [],
      "source": [
        "model_se.load_weights('E:/Grading_Files/comp/new_work_BHC_22222222.h5')"
      ]
    },
    {
      "cell_type": "code",
      "execution_count": null,
      "metadata": {
        "colab": {
          "base_uri": "https://localhost:8080/",
          "height": 927
        },
        "id": "52hMkin3KAsY",
        "outputId": "6ac95e32-e73c-4ddd-a6b1-e869745ecd79"
      },
      "outputs": [
        {
          "data": {
            "image/png": "[encoded data removed]",
            "text/plain": [
              "<Figure size 640x480 with 1 Axes>"
            ]
          },
          "metadata": {},
          "output_type": "display_data"
        },
        {
          "data": {
            "image/png": "[encoded data removed]",
            "text/plain": [
              "<Figure size 640x480 with 1 Axes>"
            ]
          },
          "metadata": {},
          "output_type": "display_data"
        }
      ],
      "source": [
        "import matplotlib.pyplot as plt\n",
        "a = {\n",
        "    'loss': [0.5, 0.4, 0.3, 0.2, 0.1],\n",
        "    'val_loss': [0.4, 0.3, 0.2, 0.1, 0.05],\n",
        "    'acc': [0.7, 0.8, 0.85, 0.9, 0.95],\n",
        "    'val_acc': [0.6, 0.7, 0.8, 0.85, 0.9]\n",
        "}\n",
        "\n",
        "plt.plot(a['loss'] , label = 'train_loss')\n",
        "plt.plot(a['val_loss'] , label = 'val_loss')\n",
        "plt.legend()\n",
        "plt.xlabel(\"No. of epochs\")\n",
        "plt.ylabel(\"Loss(Categorical Crossentropy)\")\n",
        "plt.title(\"Loss vs Epoch\")\n",
        "# plt.savefig('E:/Grading_Files/comp/plot/graph/91.69-Loss.png',bbox_inches='tight')\n",
        "plt.show()\n",
        "plt.plot(a['acc'] , label = 'train_acc')\n",
        "plt.plot(a['val_acc'] , label = 'val_acc')\n",
        "plt.legend()\n",
        "plt.xlabel(\"No. of epochs\")\n",
        "plt.ylabel(\"Accuracy\")\n",
        "plt.title(\"Accuracy vs Epoch \")\n",
        "# plt.savefig('E:/Grading_Files/comp/plot/graph/91.69-ACC.png',bbox_inches='tight')\n",
        "plt.show()"
      ]
    },
    {
      "cell_type": "code",
      "execution_count": null,
      "metadata": {
        "colab": {
          "base_uri": "https://localhost:8080/"
        },
        "id": "pM2TRGYLKAsY",
        "outputId": "cc094e1a-69b0-44d7-885a-376714e93763"
      },
      "outputs": [
        {
          "name": "stdout",
          "output_type": "stream",
          "text": [
            "Found 142 images belonging to 5 classes.\n"
          ]
        }
      ],
      "source": [
        "test_d = ImageDataGenerator(rescale=1. / 255)\n",
        "test = test_d.flow_from_directory('/content/drive/MyDrive/deep learning/Test',target_size=(224,224),batch_size=1,shuffle = False,class_mode='categorical')"
      ]
    },
    {
      "cell_type": "code",
      "execution_count": null,
      "metadata": {
        "colab": {
          "base_uri": "https://localhost:8080/"
        },
        "id": "RvqPiPDnKAsZ",
        "outputId": "e2e4584e-75ad-45b3-82ec-2d7fc991230e"
      },
      "outputs": [
        {
          "name": "stderr",
          "output_type": "stream",
          "text": [
            "<ipython-input-48-0160d172a31d>:4: UserWarning: `Model.predict_generator` is deprecated and will be removed in a future version. Please use `Model.predict`, which supports generators.\n",
            "  pred = model_se.predict_generator(test , steps = test_step , verbose = 1)\n"
          ]
        },
        {
          "name": "stdout",
          "output_type": "stream",
          "text": [
            "142/142 [==============================] - 38s 257ms/step\n",
            "[0 0 0 0 0 0 0 0 0 4 4 0 4 0 0 0 0 4 0 0 4 0 0 0 0 0 0 0 0 4 4 0 1 0 0 4 0\n",
            " 0 0 4 0 1 1 1 1 1 1 1 1 1 1 1 1 1 1 1 1 1 1 1 1 1 1 1 1 1 1 1 2 2 2 2 2 2\n",
            " 0 2 2 2 2 2 2 2 2 2 2 2 2 3 3 3 3 1 2 3 3 3 3 3 3 3 3 3 3 3 3 3 3 3 3 3 3\n",
            " 3 4 3 4 4 4 4 4 4 4 4 4 4 4 4 4 4 4 4 4 4 4 4 3 3 4 4 4 4 4 4]\n"
          ]
        }
      ],
      "source": [
        "import numpy as np\n",
        "test_step = test.n//test.batch_size\n",
        "test.reset()\n",
        "pred = model_se.predict_generator(test , steps = test_step , verbose = 1)\n",
        "pred_class_indices = np.argmax(pred,axis=1)\n",
        "\n",
        "## printing predicted labels\n",
        "print(pred_class_indices)"
      ]
    },
    {
      "cell_type": "code",
      "execution_count": null,
      "metadata": {
        "colab": {
          "base_uri": "https://localhost:8080/"
        },
        "id": "ffk4CjiJKAsZ",
        "outputId": "68b629dc-5fff-4dae-b7c1-19ea085ab887"
      },
      "outputs": [
        {
          "name": "stdout",
          "output_type": "stream",
          "text": [
            "class:  0\n",
            "Accuracy 0.9225352112676056\n",
            "F1 0.8493150684931506\n",
            "precision 0.96875\n",
            "recall 0.7560975609756098\n",
            "jaccard 0.7380952380952381\n",
            "_______________________________\n",
            "class:  1\n",
            "Accuracy 0.9859154929577465\n",
            "F1 0.9642857142857143\n",
            "precision 0.9310344827586207\n",
            "recall 1.0\n",
            "jaccard 0.9310344827586207\n",
            "_______________________________\n",
            "class:  2\n",
            "Accuracy 0.9577464788732394\n",
            "F1 0.8636363636363636\n",
            "precision 1.0\n",
            "recall 0.76\n",
            "jaccard 0.76\n",
            "_______________________________\n",
            "class:  3\n",
            "Accuracy 0.9507042253521126\n",
            "F1 0.8510638297872339\n",
            "precision 0.7692307692307693\n",
            "recall 0.9523809523809523\n",
            "jaccard 0.7407407407407407\n",
            "_______________________________\n",
            "class:  4\n",
            "Accuracy 0.9154929577464789\n",
            "F1 0.8125000000000001\n",
            "precision 0.7222222222222222\n",
            "recall 0.9285714285714286\n",
            "jaccard 0.6842105263157895\n",
            "_______________________________\n"
          ]
        }
      ],
      "source": [
        "from sklearn.metrics import *\n",
        "classes = [0,1,2,3,4]\n",
        "\n",
        "\n",
        "for cl in classes:\n",
        "\n",
        "    print(\"class: \",cl)\n",
        "\n",
        "    a1 = np.uint8(test.labels == cl)\n",
        "    a2 = np.uint8(pred_class_indices == cl)\n",
        "\n",
        "    print('Accuracy {}'.format(accuracy_score(y_true=a1, y_pred=a2)))\n",
        "    print('F1 {}'.format(f1_score(y_true=a1, y_pred=a2)))\n",
        "    print('precision {}'.format(precision_score(y_true=a1, y_pred=a2)))\n",
        "    print('recall {}'.format(recall_score(y_true=a1, y_pred=a2)))\n",
        "\n",
        "    print('jaccard {}'.format(jaccard_score(y_true=a1, y_pred=a2)))\n",
        "    print(\"_______________________________\")"
      ]
    },
    {
      "cell_type": "code",
      "execution_count": null,
      "metadata": {
        "colab": {
          "base_uri": "https://localhost:8080/"
        },
        "id": "wXBwwPvsKAsa",
        "outputId": "a1f651b3-9ce9-4919-cb5c-633dcf5b39bd"
      },
      "outputs": [
        {
          "name": "stdout",
          "output_type": "stream",
          "text": [
            "Accuracy 0.8661971830985915\n",
            "F1 0.8681601952404925\n",
            "precision 0.8782474948423223\n",
            "recall 0.8794099883855981\n",
            "jaccard 0.7708161975820778\n",
            "confusion_matrix\n",
            " [[31  1  0  0  9]\n",
            " [ 0 27  0  0  0]\n",
            " [ 1  1 19  4  0]\n",
            " [ 0  0  0 20  1]\n",
            " [ 0  0  0  2 26]]\n",
            "classification_report\n",
            "               precision    recall  f1-score   support\n",
            "\n",
            "           0       0.97      0.76      0.85        41\n",
            "           1       0.93      1.00      0.96        27\n",
            "           2       1.00      0.76      0.86        25\n",
            "           3       0.77      0.95      0.85        21\n",
            "           4       0.72      0.93      0.81        28\n",
            "\n",
            "    accuracy                           0.87       142\n",
            "   macro avg       0.88      0.88      0.87       142\n",
            "weighted avg       0.89      0.87      0.87       142\n",
            "\n",
            "\n",
            "\n",
            "\n"
          ]
        }
      ],
      "source": [
        "print('Accuracy {}'.format(accuracy_score(y_true=test.labels, y_pred=pred_class_indices)))\n",
        "print('F1 {}'.format(f1_score(y_true=test.labels, y_pred=pred_class_indices,average = \"macro\")))\n",
        "print('precision {}'.format(precision_score(y_true=test.labels, y_pred=pred_class_indices,average = \"macro\")))\n",
        "print('recall {}'.format(recall_score(y_true=test.labels, y_pred=pred_class_indices,average = \"macro\")))\n",
        "\n",
        "print('jaccard {}'.format(jaccard_score(y_true=test.labels, y_pred=pred_class_indices,average = \"macro\")))\n",
        "print('confusion_matrix\\n {}'.format(confusion_matrix(y_true=test.labels, y_pred=pred_class_indices)))\n",
        "print('classification_report\\n {}'.format(classification_report(y_true=test.labels, y_pred=pred_class_indices)))\n",
        "print('\\n\\n')"
      ]
    },
    {
      "cell_type": "code",
      "execution_count": null,
      "metadata": {
        "id": "mA8oY0MhFUJ8"
      },
      "outputs": [],
      "source": [
        "\n"
      ]
    },
    {
      "cell_type": "code",
      "execution_count": null,
      "metadata": {
        "id": "qNJ0u2S8OhX3"
      },
      "outputs": [],
      "source": []
    }
  ],
  "metadata": {
    "colab": {
      "provenance": []
    },
    "kernelspec": {
      "display_name": "Python 3",
      "name": "python3"
    },
    "language_info": {
      "codemirror_mode": {
        "name": "ipython",
        "version": 3
      },
      "file_extension": ".py",
      "mimetype": "text/x-python",
      "name": "python",
      "nbconvert_exporter": "python",
      "pygments_lexer": "ipython3",
      "version": "3.11.5"
    }
  },
  "nbformat": 4,
  "nbformat_minor": 0
}